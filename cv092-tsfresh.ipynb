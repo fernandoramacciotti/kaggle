{
 "cells": [
  {
   "cell_type": "code",
   "execution_count": 1,
   "metadata": {},
   "outputs": [
    {
     "name": "stderr",
     "output_type": "stream",
     "text": [
      "C:\\Anaconda3\\lib\\site-packages\\statsmodels\\compat\\pandas.py:56: FutureWarning: The pandas.core.datetools module is deprecated and will be removed in a future version. Please use the pandas.tseries module instead.\n",
      "  from pandas.core import datetools\n"
     ]
    }
   ],
   "source": [
    "import numpy as np\n",
    "import pandas as pd\n",
    "import os\n",
    "import gc\n",
    "\n",
    "from custom_fn import *\n",
    "\n",
    "%matplotlib inline\n",
    "import matplotlib.pyplot as plt\n",
    "\n",
    "from xgboost import XGBClassifier\n",
    "from sklearn.ensemble import RandomForestClassifier\n",
    "from sklearn.linear_model import LassoCV\n",
    "from sklearn.metrics import accuracy_score\n",
    "from sklearn.model_selection import StratifiedKFold, GridSearchCV, RandomizedSearchCV\n",
    "from sklearn.feature_selection import SelectFromModel\n",
    "from sklearn.preprocessing import StandardScaler, MinMaxScaler\n",
    "\n",
    "import tsfresh"
   ]
  },
  {
   "cell_type": "code",
   "execution_count": 2,
   "metadata": {},
   "outputs": [],
   "source": [
    "submission, X_train, X_test, y_train = load_files()"
   ]
  },
  {
   "cell_type": "code",
   "execution_count": 3,
   "metadata": {},
   "outputs": [],
   "source": [
    "features_cols = [c for c in X_train.columns if X_train[c].dtype == np.float64]"
   ]
  },
  {
   "cell_type": "code",
   "execution_count": 4,
   "metadata": {},
   "outputs": [],
   "source": [
    "group_col = 'series_id'\n",
    "\n",
    "X_train_3d, features, X_train_feats = preprocess_data(X_train, group_col, cum=True)\n",
    "X_test_3d, _, X_test_feats = preprocess_data(X_test, group_col, cum=True)"
   ]
  },
  {
   "cell_type": "markdown",
   "metadata": {},
   "source": [
    "## Feature calculation"
   ]
  },
  {
   "cell_type": "markdown",
   "metadata": {},
   "source": [
    "### TSfresh"
   ]
  },
  {
   "cell_type": "code",
   "execution_count": 5,
   "metadata": {},
   "outputs": [],
   "source": [
    "fc_parameters = {\n",
    "    'abs_energy': None,\n",
    "    'absolute_sum_of_changes': None,\n",
    "    'agg_autocorrelation': [{'f_agg': 'mean', 'maxlag': 10}, \n",
    "                            {'f_agg': 'std', 'maxlag': 10}],\n",
    "    'augmented_dickey_fuller': [{'attr': 'teststat'}],\n",
    "    'c3': [{'lag': 1}, {'lag': 2}],\n",
    "    'cid_ce': [{'normalize': True}],\n",
    "    'count_above_mean': None,\n",
    "    'count_below_mean': None,\n",
    "    'fft_aggregated': [{'aggtype': 'centroid'},\n",
    "                       {'aggtype': 'variance'},\n",
    "                       {'aggtype': 'skew'},\n",
    "                       {'aggtype': 'kurtosis'}],\n",
    "    'mean': None,\n",
    "    'median': None,\n",
    "    'skewness': None,\n",
    "    'kurtosis': None,\n",
    "    'standard_deviation': None,\n",
    "    'variance': None,\n",
    "    'sample_entropy': None,\n",
    "    'number_peaks': [{'n': 3}],\n",
    "    'partial_autocorrelation': [{'lag': 10}],\n",
    "    'mean_change': None,\n",
    "    'mean_abs_change': None,\n",
    "    'mean_second_derivative_central': None\n",
    "}"
   ]
  },
  {
   "cell_type": "code",
   "execution_count": 6,
   "metadata": {},
   "outputs": [],
   "source": [
    "import copy"
   ]
  },
  {
   "cell_type": "code",
   "execution_count": 7,
   "metadata": {},
   "outputs": [
    {
     "data": {
      "text/plain": [
       "Index(['row_id', 'series_id', 'measurement_number', 'orientation_X',\n",
       "       'orientation_Y', 'orientation_Z', 'orientation_W', 'angular_velocity_X',\n",
       "       'angular_velocity_Y', 'angular_velocity_Z', 'linear_acceleration_X',\n",
       "       'linear_acceleration_Y', 'linear_acceleration_Z', 'euler_X', 'euler_Y',\n",
       "       'euler_Z', 'angular_velocity_pow2_X', 'angular_velocity_pow2_Y',\n",
       "       'angular_velocity_pow2_Z', 'total_angular_velocity',\n",
       "       'linear_acceleration_pow2_X', 'linear_acceleration_pow2_Y',\n",
       "       'linear_acceleration_pow2_Z', 'total_linear_acc'],\n",
       "      dtype='object')"
      ]
     },
     "execution_count": 7,
     "metadata": {},
     "output_type": "execute_result"
    }
   ],
   "source": [
    "X_train_feats.columns"
   ]
  },
  {
   "cell_type": "code",
   "execution_count": 8,
   "metadata": {},
   "outputs": [
    {
     "name": "stderr",
     "output_type": "stream",
     "text": [
      "Feature Extraction: 100%|██████████████████████████████████████████████████████████████| 30/30 [09:07<00:00,  6.81s/it]\n"
     ]
    }
   ],
   "source": [
    "feats_ids = copy.deepcopy(features)\n",
    "feats_ids.append('series_id')\n",
    "feats_ids.append('measurement_number')\n",
    "\n",
    "X_tsfresh = tsfresh.feature_extraction.extract_features(\n",
    "    X_train_feats[feats_ids],\n",
    "    column_id='series_id',\n",
    "    column_sort='measurement_number',\n",
    "    column_kind=None,\n",
    "    column_value=None,\n",
    "    n_jobs=6,\n",
    "    default_fc_parameters=fc_parameters\n",
    ")"
   ]
  },
  {
   "cell_type": "markdown",
   "metadata": {},
   "source": [
    "## Cross validation and feature selection"
   ]
  },
  {
   "cell_type": "code",
   "execution_count": 10,
   "metadata": {},
   "outputs": [],
   "source": [
    "from sklearn.preprocessing import Imputer"
   ]
  },
  {
   "cell_type": "code",
   "execution_count": 50,
   "metadata": {},
   "outputs": [],
   "source": [
    "from scipy.stats import randint as sp_randint\n",
    "from sklearn.preprocessing import LabelEncoder\n",
    "from sklearn.linear_model import Lasso\n",
    "from sklearn.model_selection import cross_validate, RandomizedSearchCV"
   ]
  },
  {
   "cell_type": "code",
   "execution_count": 12,
   "metadata": {},
   "outputs": [],
   "source": [
    "le = LabelEncoder()\n",
    "y_enc = le.fit_transform(y_train['surface'])"
   ]
  },
  {
   "cell_type": "code",
   "execution_count": 57,
   "metadata": {},
   "outputs": [],
   "source": [
    "from sklearn.pipeline import Pipeline\n",
    "from sklearn.svm import LinearSVC, SVC\n",
    "import warnings\n",
    "from scipy.stats import randint as sp_randint\n",
    "\n",
    "warnings.filterwarnings('ignore')"
   ]
  },
  {
   "cell_type": "code",
   "execution_count": 58,
   "metadata": {},
   "outputs": [],
   "source": [
    "estimator = Pipeline([\n",
    "    ('imputer', Imputer()),\n",
    "    ('selector', SelectFromModel(Lasso(alpha=0.7), threshold='median')),\n",
    "    ('clf', RandomForestClassifier(random_state=11, n_estimators=300, criterion='entropy'))\n",
    "])"
   ]
  },
  {
   "cell_type": "code",
   "execution_count": 56,
   "metadata": {},
   "outputs": [
    {
     "name": "stderr",
     "output_type": "stream",
     "text": [
      "[Parallel(n_jobs=5)]: Done   5 out of  10 | elapsed:   23.1s remaining:   23.1s\n",
      "[Parallel(n_jobs=5)]: Done  10 out of  10 | elapsed:   40.6s finished\n"
     ]
    },
    {
     "name": "stdout",
     "output_type": "stream",
     "text": [
      "Mean CV: 0.80\n",
      "Train scores [1. 1. 1. 1. 1. 1. 1. 1. 1. 1.]\n"
     ]
    }
   ],
   "source": [
    "folds = StratifiedKFold(n_splits=10, shuffle=True, random_state=11)\n",
    "cv = folds.split(X_tsfresh, y_train['group_id'])\n",
    "\n",
    "res = cross_validate(\n",
    "    estimator, \n",
    "    X_tsfresh, \n",
    "    y_enc, \n",
    "    scoring='accuracy', \n",
    "    cv=cv, \n",
    "    verbose=3,\n",
    "    n_jobs=5)\n",
    "\n",
    "print('Mean CV: {:.2f}'.format(res['test_score'].mean()))\n",
    "print('Train scores {}'.format(res['train_score']))"
   ]
  },
  {
   "cell_type": "code",
   "execution_count": 64,
   "metadata": {},
   "outputs": [],
   "source": [
    "param_dist = {\"clf__max_depth\": sp_randint(2, 4),\n",
    "              \"clf__max_features\": sp_randint(1, 11),\n",
    "              \"clf__min_samples_split\": sp_randint(2, 11),\n",
    "              \"clf__bootstrap\": [True, False],\n",
    "              \"clf__criterion\": [\"gini\", \"entropy\"],\n",
    "              \"selector__threshold\": ['median', 'mean']}\n",
    "\n",
    "n_iter_search = 20"
   ]
  },
  {
   "cell_type": "code",
   "execution_count": 65,
   "metadata": {},
   "outputs": [
    {
     "name": "stdout",
     "output_type": "stream",
     "text": [
      "Fitting 10 folds for each of 20 candidates, totalling 200 fits\n"
     ]
    },
    {
     "name": "stderr",
     "output_type": "stream",
     "text": [
      "[Parallel(n_jobs=5)]: Done  22 tasks      | elapsed:   36.9s\n",
      "[Parallel(n_jobs=5)]: Done 118 tasks      | elapsed:  4.7min\n",
      "[Parallel(n_jobs=5)]: Done 200 out of 200 | elapsed:  7.7min finished\n"
     ]
    },
    {
     "name": "stdout",
     "output_type": "stream",
     "text": [
      "Best mean CV: 0.81\n"
     ]
    }
   ],
   "source": [
    "folds = StratifiedKFold(n_splits=10, shuffle=True, random_state=11)\n",
    "cv = folds.split(X_tsfresh, y_train['group_id'])\n",
    "\n",
    "random_search = RandomizedSearchCV(\n",
    "    estimator, \n",
    "    param_distributions=param_dist,\n",
    "    n_iter=n_iter_search,\n",
    "    scoring='accuracy',\n",
    "    cv=cv,\n",
    "    verbose=3,\n",
    "    n_jobs=5)\n",
    "\n",
    "random_search.fit(X_tsfresh, y_enc)\n",
    "\n",
    "print('Best mean CV: {:.2f}'.format(random_search.best_score_))"
   ]
  },
  {
   "cell_type": "code",
   "execution_count": 66,
   "metadata": {},
   "outputs": [
    {
     "data": {
      "text/plain": [
       "{'clf__bootstrap': False,\n",
       " 'clf__criterion': 'entropy',\n",
       " 'clf__max_depth': 8,\n",
       " 'clf__max_features': 9,\n",
       " 'clf__min_samples_split': 6,\n",
       " 'selector__threshold': 'median'}"
      ]
     },
     "execution_count": 66,
     "metadata": {},
     "output_type": "execute_result"
    }
   ],
   "source": [
    "random_search.best_estimator_.predict(X_te)"
   ]
  },
  {
   "cell_type": "code",
   "execution_count": 67,
   "metadata": {},
   "outputs": [
    {
     "name": "stderr",
     "output_type": "stream",
     "text": [
      "Feature Extraction: 100%|██████████████████████████████████████████████████████████████| 30/30 [08:26<00:00,  5.78s/it]\n"
     ]
    }
   ],
   "source": [
    "X_test_tsfresh = tsfresh.feature_extraction.extract_features(\n",
    "    X_test_feats[feats_ids],\n",
    "    column_id='series_id',\n",
    "    column_sort='measurement_number',\n",
    "    column_kind=None,\n",
    "    column_value=None,\n",
    "    n_jobs=6,\n",
    "    default_fc_parameters=fc_parameters\n",
    ")"
   ]
  },
  {
   "cell_type": "code",
   "execution_count": 68,
   "metadata": {},
   "outputs": [],
   "source": [
    "y_preds = random_search.best_estimator_.predict(X_test_tsfresh)"
   ]
  },
  {
   "cell_type": "code",
   "execution_count": 71,
   "metadata": {},
   "outputs": [],
   "source": [
    "submission.drop(['target'], axis=1, inplace=True)"
   ]
  },
  {
   "cell_type": "code",
   "execution_count": 72,
   "metadata": {},
   "outputs": [],
   "source": [
    "submission['surface'] = le.inverse_transform(y_preds)\n",
    "submission.to_csv('submission_rf_selector_CV081.csv', index=False)"
   ]
  },
  {
   "cell_type": "markdown",
   "metadata": {},
   "source": [
    "## Light GBM"
   ]
  },
  {
   "cell_type": "code",
   "execution_count": 74,
   "metadata": {},
   "outputs": [],
   "source": [
    "import lightgbm"
   ]
  },
  {
   "cell_type": "code",
   "execution_count": 81,
   "metadata": {},
   "outputs": [],
   "source": [
    "lgbm = lightgbm.LGBMClassifier(\n",
    "    learning_rate=0.1, \n",
    "    n_estimators=300,\n",
    "    reg_lambda=0.2,\n",
    "    random_state=11,\n",
    "    n_jobs=1)\n",
    "\n",
    "pipegbm = Pipeline([\n",
    "    ('imputer', Imputer()),\n",
    "    ('clf', lgbm)\n",
    "])"
   ]
  },
  {
   "cell_type": "code",
   "execution_count": 83,
   "metadata": {},
   "outputs": [],
   "source": [
    "param_lgbm = {\"clf__learning_rate\": [0.1],\n",
    "              \"clf__n_estimators\": [300],\n",
    "              \"clf__reg_lambda\": [0.0, 0.2]}"
   ]
  },
  {
   "cell_type": "code",
   "execution_count": 84,
   "metadata": {},
   "outputs": [
    {
     "name": "stdout",
     "output_type": "stream",
     "text": [
      "Fitting 10 folds for each of 2 candidates, totalling 20 fits\n"
     ]
    },
    {
     "name": "stderr",
     "output_type": "stream",
     "text": [
      "[Parallel(n_jobs=5)]: Done  18 out of  20 | elapsed: 18.0min remaining:  2.0min\n",
      "[Parallel(n_jobs=5)]: Done  20 out of  20 | elapsed: 18.0min finished\n"
     ]
    },
    {
     "name": "stdout",
     "output_type": "stream",
     "text": [
      "Best mean CV: 0.92\n"
     ]
    }
   ],
   "source": [
    "folds = StratifiedKFold(n_splits=10, shuffle=True, random_state=11)\n",
    "cv = folds.split(X_tsfresh, y_train['group_id'])\n",
    "\n",
    "lgbm_gs = GridSearchCV(\n",
    "    estimator=pipegbm,\n",
    "    param_grid=param_lgbm,\n",
    "    cv=cv,\n",
    "    scoring='accuracy',\n",
    "    verbose=3,\n",
    "    n_jobs=5)\n",
    "\n",
    "lgbm_gs.fit(X_tsfresh, y_enc)\n",
    "\n",
    "print('Best mean CV: {:.2f}'.format(lgbm_gs.best_score_))"
   ]
  },
  {
   "cell_type": "code",
   "execution_count": 85,
   "metadata": {},
   "outputs": [],
   "source": [
    "y_preds_lgbm = lgbm_gs.best_estimator_.predict(X_test_tsfresh)\n",
    "submission['surface'] = le.inverse_transform(y_preds_lgbm)\n",
    "submission.to_csv('submission_lgbm_selector_CV092.csv', index=False)"
   ]
  },
  {
   "cell_type": "code",
   "execution_count": 87,
   "metadata": {},
   "outputs": [
    {
     "data": {
      "text/plain": [
       "[mean: 0.92467, std: 0.01234, params: {'clf__learning_rate': 0.1, 'clf__n_estimators': 300, 'clf__reg_lambda': 0.0},\n",
       " mean: 0.92021, std: 0.01364, params: {'clf__learning_rate': 0.1, 'clf__n_estimators': 300, 'clf__reg_lambda': 0.2}]"
      ]
     },
     "execution_count": 87,
     "metadata": {},
     "output_type": "execute_result"
    }
   ],
   "source": [
    "lgbm_gs.grid_scores_"
   ]
  },
  {
   "cell_type": "code",
   "execution_count": 88,
   "metadata": {},
   "outputs": [],
   "source": [
    "from sklearn.tree import DecisionTreeClassifier"
   ]
  },
  {
   "cell_type": "code",
   "execution_count": null,
   "metadata": {},
   "outputs": [],
   "source": [
    "dtree = Pipeline([('imp', Imputer()), ('dt', DecisionTreeClassifier())])"
   ]
  },
  {
   "cell_type": "markdown",
   "metadata": {},
   "source": [
    "## Lightgbm 3-CV"
   ]
  },
  {
   "cell_type": "code",
   "execution_count": 100,
   "metadata": {},
   "outputs": [
    {
     "name": "stdout",
     "output_type": "stream",
     "text": [
      "Fitting 3 folds for each of 2 candidates, totalling 6 fits\n"
     ]
    },
    {
     "name": "stderr",
     "output_type": "stream",
     "text": [
      "[Parallel(n_jobs=5)]: Done   3 out of   6 | elapsed:  3.5min remaining:  3.5min\n",
      "[Parallel(n_jobs=5)]: Done   6 out of   6 | elapsed:  4.8min remaining:    0.0s\n",
      "[Parallel(n_jobs=5)]: Done   6 out of   6 | elapsed:  4.8min finished\n"
     ]
    },
    {
     "name": "stdout",
     "output_type": "stream",
     "text": [
      "Best mean CV: 0.90\n"
     ]
    }
   ],
   "source": [
    "folds = StratifiedKFold(n_splits=3, shuffle=True, random_state=11)\n",
    "cv = folds.split(X_tsfresh, y_train['group_id'])\n",
    "\n",
    "lgbm_gs_3cv = GridSearchCV(\n",
    "    estimator=pipegbm,\n",
    "    param_grid=param_lgbm,\n",
    "    cv=cv,\n",
    "    scoring='accuracy',\n",
    "    verbose=3,\n",
    "    n_jobs=5)\n",
    "\n",
    "lgbm_gs_3cv.fit(X_tsfresh, y_enc)\n",
    "\n",
    "print('Best mean CV: {:.2f}'.format(lgbm_gs_3cv.best_score_))"
   ]
  },
  {
   "cell_type": "code",
   "execution_count": 101,
   "metadata": {},
   "outputs": [],
   "source": [
    "y_preds_lgbm_3cv = lgbm_gs_3cv.best_estimator_.predict(X_test_tsfresh)\n",
    "submission['surface'] = le.inverse_transform(y_preds_lgbm_3cv)\n",
    "submission.to_csv('submission_lgbm_selector_3-CV090.csv', index=False)"
   ]
  },
  {
   "cell_type": "code",
   "execution_count": null,
   "metadata": {},
   "outputs": [],
   "source": []
  }
 ],
 "metadata": {
  "kernelspec": {
   "display_name": "Python 3",
   "language": "python",
   "name": "python3"
  },
  "language_info": {
   "codemirror_mode": {
    "name": "ipython",
    "version": 3
   },
   "file_extension": ".py",
   "mimetype": "text/x-python",
   "name": "python",
   "nbconvert_exporter": "python",
   "pygments_lexer": "ipython3",
   "version": "3.6.4"
  }
 },
 "nbformat": 4,
 "nbformat_minor": 2
}
